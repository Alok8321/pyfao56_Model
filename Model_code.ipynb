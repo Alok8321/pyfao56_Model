{
 "cells": [
  {
   "cell_type": "code",
   "execution_count": null,
   "id": "c96961da",
   "metadata": {},
   "outputs": [],
   "source": [
    "#Install pyfao56\n",
    "pip install pyfao56\n",
    "\n",
    "#Import Libraries\n",
    "import pyfao56 as fao\n",
    "import pyfao56.custom as custom\n",
    "import os\n",
    "import time\n",
    "import sys\n",
    "\n",
    "#Specify Parameters\n",
    "par = fao.Parameters()\n",
    "par.loadfile('2017_Squires_Cotton_FTCB.par')\n",
    "\n",
    "# Weather Information\n",
    "wth = fao.Weather()\n",
    "wth.loadfile('2017_Squires_Cotton_FTCB.wth')\n",
    "\n",
    "# Use autoirrigate Function\n",
    "airr = fao.AutoIrrigate()\n",
    "airr.addset('2017-135','2017-298', mad = 0.65, fw = 1, imax=51)\n",
    "\n",
    "# Run the model\n",
    "mdl = fao.Model('2017-135','2017-298', par, wth, autoirr=airr)\n",
    "mdl.run()\n",
    "\n",
    "# Save the output\n",
    "mdl.savefile('pyfao.out')"
   ]
  }
 ],
 "metadata": {
  "kernelspec": {
   "display_name": "Python 3 (ipykernel)",
   "language": "python",
   "name": "python3"
  },
  "language_info": {
   "codemirror_mode": {
    "name": "ipython",
    "version": 3
   },
   "file_extension": ".py",
   "mimetype": "text/x-python",
   "name": "python",
   "nbconvert_exporter": "python",
   "pygments_lexer": "ipython3",
   "version": "3.11.4"
  }
 },
 "nbformat": 4,
 "nbformat_minor": 5
}
